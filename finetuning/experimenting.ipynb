{
 "cells": [
  {
   "metadata": {},
   "cell_type": "markdown",
   "source": "# Importing all the necessary libraries",
   "id": "5839f05f302e6992"
  },
  {
   "metadata": {
    "ExecuteTime": {
     "end_time": "2025-01-08T22:31:11.406622Z",
     "start_time": "2025-01-08T22:31:06.818889Z"
    }
   },
   "cell_type": "code",
   "source": [
    "# basic libraries\n",
    "import copy\n",
    "import os\n",
    "import threading\n",
    "import time\n",
    "from lib2to3.pgen2.tokenize import tokenize\n",
    "\n",
    "import tqdm\n",
    "import numpy as np\n",
    "import pandas as pd\n",
    "import matplotlib.pyplot as plt\n",
    "import transformers\n",
    "\n",
    "# libraries for the model training and dataset loading\n",
    "from datasets import load_dataset\n",
    "from transformers import AutoTokenizer, AutoModel\n",
    "from torch.optim import AdamW\n",
    "from transformers import get_scheduler\n",
    "import torch\n",
    "from torch.utils.data import Dataset, DataLoader\n",
    "\n",
    "# LoRA library from Microsoft (https://github.com/microsoft/LoRA/tree/main)\n",
    "import loralib\n",
    "\n",
    "# files with custom Bert model and the changed file from transformers library\n",
    "import bert_multi_lora\n",
    "from custom_model import CustomBert, LoRABert"
   ],
   "id": "cdb68531a38fe6a9",
   "outputs": [
    {
     "name": "stderr",
     "output_type": "stream",
     "text": [
      "C:\\Users\\balanton\\AppData\\Local\\Temp\\ipykernel_4992\\1978751123.py:6: DeprecationWarning: lib2to3 package is deprecated and may not be able to parse Python 3.10+\n",
      "  from lib2to3.pgen2.tokenize import tokenize\n",
      "C:\\Users\\balanton\\anaconda3\\envs\\semester_project\\Lib\\site-packages\\tqdm\\auto.py:21: TqdmWarning: IProgress not found. Please update jupyter and ipywidgets. See https://ipywidgets.readthedocs.io/en/stable/user_install.html\n",
      "  from .autonotebook import tqdm as notebook_tqdm\n"
     ]
    }
   ],
   "execution_count": 1
  },
  {
   "metadata": {
    "ExecuteTime": {
     "end_time": "2025-01-08T22:31:11.413802Z",
     "start_time": "2025-01-08T22:31:11.410627Z"
    }
   },
   "cell_type": "code",
   "source": [
    "# uncomment the below line if you want to automatically reload the modules\n",
    "# though this will disable debugging in the notebook\n",
    "\n",
    "# %load_ext autoreload\n",
    "# %autoreload 2"
   ],
   "id": "ca49d1d7c6b990d",
   "outputs": [],
   "execution_count": 2
  },
  {
   "metadata": {
    "ExecuteTime": {
     "end_time": "2025-01-08T22:31:11.504113Z",
     "start_time": "2025-01-08T22:31:11.441894Z"
    }
   },
   "cell_type": "code",
   "source": [
    "# setting device to `cuda` if gpu exists\n",
    "device = torch.device(\"cuda\") if torch.cuda.is_available() else torch.device(\"cpu\")\n",
    "device"
   ],
   "id": "1b028245a6e0feb7",
   "outputs": [
    {
     "data": {
      "text/plain": [
       "device(type='cuda')"
      ]
     },
     "execution_count": 3,
     "metadata": {},
     "output_type": "execute_result"
    }
   ],
   "execution_count": 3
  },
  {
   "metadata": {
    "ExecuteTime": {
     "end_time": "2025-01-08T22:31:12.716900Z",
     "start_time": "2025-01-08T22:31:11.510066Z"
    }
   },
   "cell_type": "code",
   "source": [
    "model_name = \"google-bert/bert-base-uncased\"\n",
    "\n",
    "# model is initialized from the custom file since it has the masking functionality\n",
    "bert = bert_multi_lora.BertModel.from_pretrained(model_name, device_map=\"auto\")\n",
    "tokenizer = AutoTokenizer.from_pretrained(model_name)"
   ],
   "id": "ae2a5dcfd4a7e9ab",
   "outputs": [],
   "execution_count": 4
  },
  {
   "metadata": {},
   "cell_type": "markdown",
   "source": "# Sizes comparison",
   "id": "87fe227dc31b5da4"
  },
  {
   "metadata": {},
   "cell_type": "markdown",
   "source": "In this section we compare the sizes of the custom implementation of the model with multiple adapters, and the [LoRA implementation from Microsoft](https://github.com/microsoft/LoRA/tree/main). The sizes are compared for the model with different number of adapters.",
   "id": "638541040565ee8e"
  },
  {
   "metadata": {
    "ExecuteTime": {
     "end_time": "2025-01-08T22:31:12.732831Z",
     "start_time": "2025-01-08T22:31:12.726468Z"
    }
   },
   "cell_type": "code",
   "source": [
    "def get_size_of_model(model):\n",
    "    \"\"\"\n",
    "    Function to get the size of the model. It calculates the size by adding all the parameters and buffers of the model.\n",
    "    \n",
    "    :param model: model for which the size is to be calculated \n",
    "    :return: size of the model in MB\n",
    "    \"\"\"\n",
    "    param_size = 0\n",
    "    for param in model.parameters():\n",
    "        param_size += param.nelement() * param.element_size()\n",
    "    buffer_size = 0\n",
    "    for buffer in model.buffers():\n",
    "        buffer_size += buffer.nelement() * buffer.element_size()\n",
    "    \n",
    "    return (param_size + buffer_size) / 1024**2\n",
    "\n",
    "def get_sizes(max_adapters=5):\n",
    "    \"\"\"\n",
    "    Function to get the sizes of the models with different number of adapters.\n",
    "    \n",
    "    :param max_adapters: maximum number of adapters to be considered\n",
    "    :return: 2 dataframes: on with the size of the model with custom adapters and the other with the size of the model with LoRA adapters\n",
    "    \"\"\"\n",
    "    sizes = []\n",
    "    sizes_full = []\n",
    "    \n",
    "    sizes.append({\"model\": \"bert\", \"size\": get_size_of_model(bert)})\n",
    "    sizes_full.append({\"model\": \"bert\", \"size\": get_size_of_model(bert)})\n",
    "    \n",
    "    for i in range(1, max_adapters + 1):\n",
    "        model_custom = CustomBert(copy.deepcopy(bert), num_adapters=i)\n",
    "        models_LoRA = [LoRABert(copy.deepcopy(bert)) for _ in range(i)]\n",
    "        \n",
    "        sizes.append({\"model\": f\"{i} adapters\", \"size\": get_size_of_model(model_custom)})\n",
    "        sizes_full.append({\"model\": f\"{i} adapters\", \"size\": sum([get_size_of_model(model) for model in models_LoRA])})\n",
    "        \n",
    "    return pd.DataFrame(sizes), pd.DataFrame(sizes_full)"
   ],
   "id": "9f8eb0f92f57d9b1",
   "outputs": [],
   "execution_count": 5
  },
  {
   "metadata": {
    "ExecuteTime": {
     "end_time": "2025-01-08T22:31:18.775914Z",
     "start_time": "2025-01-08T22:31:12.741465Z"
    }
   },
   "cell_type": "code",
   "source": [
    "def plot_sizes(df_1, df_2):\n",
    "    \"\"\"\n",
    "    Function to plot the sizes of the models with different number of adapters.\n",
    "    \n",
    "    :param df_1: dataframe with the sizes of the model with custom adapters\n",
    "    :param df_2: dataframe with the sizes of the model with LoRA adapters\n",
    "    \"\"\"\n",
    "    fig, ax = plt.subplots(figsize=(10, 5))\n",
    "\n",
    "    index = np.arange(len(df_1))\n",
    "    bar_width = 0.35\n",
    "\n",
    "    opacity = 0.5\n",
    "\n",
    "    ax.bar(index, df_1[\"size\"], bar_width, alpha=opacity, color='b', label='CustomBert')\n",
    "    ax.bar(index + bar_width, df_2[\"size\"], bar_width, alpha=opacity, color='r', label='LoRABert')\n",
    "\n",
    "    ax.legend()\n",
    "    ax.set_ylabel(\"Size (MB)\")\n",
    "    ax.set_xlabel(\"Model\")\n",
    "    ax.set_xticks(index + bar_width / 2)\n",
    "    ax.set_xticklabels(df_1[\"model\"], rotation=45)\n",
    "    plt.show()\n",
    "    \n",
    "df_custom, df_LoRA = get_sizes(5)    \n",
    "plot_sizes(df_custom, df_LoRA)"
   ],
   "id": "13f56794d7265380",
   "outputs": [
    {
     "data": {
      "text/plain": [
       "<Figure size 1000x500 with 1 Axes>"
      ],
      "image/png": "[encoded data removed]"
     },
     "metadata": {},
     "output_type": "display_data"
    }
   ],
   "execution_count": 6
  },
  {
   "metadata": {},
   "cell_type": "markdown",
   "source": "As we can see from the plot above, the size of the model with custom adapters is significantly smaller than the size of the model with LoRA adapters. This is because the custom implementation only adds the adapters to the model, while the LoRA implementation adds the full model for each adapter.",
   "id": "520f32c18dea3dea"
  }
 ],
 "metadata": {
  "kernelspec": {
   "display_name": "Python 3",
   "language": "python",
   "name": "python3"
  },
  "language_info": {
   "codemirror_mode": {
    "name": "ipython",
    "version": 2
   },
   "file_extension": ".py",
   "mimetype": "text/x-python",
   "name": "python",
   "nbconvert_exporter": "python",
   "pygments_lexer": "ipython2",
   "version": "2.7.6"
  }
 },
 "nbformat": 4,
 "nbformat_minor": 5
}
