{
 "cells": [
  {
   "metadata": {
    "ExecuteTime": {
     "end_time": "2024-12-10T23:35:38.687961Z",
     "start_time": "2024-12-10T23:35:35.013493Z"
    }
   },
   "cell_type": "code",
   "source": [
    "import copy\n",
    "import os\n",
    "import sys\n",
    "from copy import deepcopy\n",
    "\n",
    "import numpy as np\n",
    "from jupyter_client.adapter import adapters\n",
    "\n",
    "from finetuning.bert_masking import BertPreTrainedModel_masking\n",
    "%load_ext autoreload\n",
    "%autoreload 2\n",
    "\n",
    "import tqdm\n",
    "import math\n",
    "import numpy as np\n",
    "\n",
    "from datasets import load_dataset\n",
    "import transformers\n",
    "from transformers import AutoTokenizer, AutoModel, BertConfig, AutoModelForCausalLM, BertPreTrainedModel\n",
    "from torch.optim import AdamW\n",
    "from transformers import get_scheduler\n",
    "from peft import LoraConfig, PeftModel\n",
    "\n",
    "import torch\n",
    "import torch.nn as nn\n",
    "from torch.utils.data import Dataset, DataLoader\n",
    "\n",
    "import loralib"
   ],
   "id": "c2bb9895b2c58ab5",
   "outputs": [],
   "execution_count": 1
  },
  {
   "metadata": {},
   "cell_type": "markdown",
   "source": "# Masking",
   "id": "f37a65bcf9d4a78b"
  },
  {
   "metadata": {
    "ExecuteTime": {
     "end_time": "2024-12-10T23:35:38.795060Z",
     "start_time": "2024-12-10T23:35:38.693996Z"
    }
   },
   "cell_type": "code",
   "source": [
    "# Now lets create the torch Dataset class\n",
    "class IMDBClassificationDataset(Dataset):\n",
    "    def __init__(self, datasets, lora_cnt=2, id=None):\n",
    "        self.datasets = datasets\n",
    "        self.id = id\n",
    "        self.lora_cnt = lora_cnt\n",
    "\n",
    "    def __len__(self):\n",
    "        if self.id is not None:\n",
    "            return len(self.datasets[self.id])\n",
    "        else:\n",
    "            return sum([len(d) for d in self.datasets])\n",
    "\n",
    "    def __getitem__(self, idx):\n",
    "        masking = torch.zeros(self.lora_cnt)\n",
    "        \n",
    "        if self.id is not None:\n",
    "            masking[self.id] = 1    \n",
    "            d = self.datasets[self.id][idx]\n",
    "        else:\n",
    "            masking[idx % self.lora_cnt] = 1\n",
    "            d = self.datasets[idx % self.lora_cnt][idx // self.lora_cnt]\n",
    "        \n",
    "        ids = torch.tensor(d['input_ids'])\n",
    "        mask = torch.tensor(d['attention_mask'])\n",
    "        label = torch.tensor(d['label'])\n",
    "        \n",
    "        return ids, mask, label, masking"
   ],
   "id": "7b09301b88f4ab73",
   "outputs": [],
   "execution_count": 2
  },
  {
   "metadata": {
    "ExecuteTime": {
     "end_time": "2024-12-10T23:35:40.640710Z",
     "start_time": "2024-12-10T23:35:38.947188Z"
    }
   },
   "cell_type": "code",
   "source": [
    "# setting device to `cuda` if gpu exists\n",
    "device = torch.device(\"cuda\") if torch.cuda.is_available() else torch.device(\"cpu\")\n",
    "\n",
    "# initialising the model\n",
    "bert = AutoModel.from_pretrained(\"google/bert_uncased_L-2_H-128_A-2\", device_map=\"auto\")\n",
    "# bert = BertPreTrainedModel_masking.from_pretrained(\"google/bert_uncased_L-2_H-128_A-2\", device_map=\"auto\")"
   ],
   "id": "ed62fdabe1b22d40",
   "outputs": [],
   "execution_count": 3
  },
  {
   "metadata": {
    "ExecuteTime": {
     "end_time": "2024-12-10T23:35:40.937965Z",
     "start_time": "2024-12-10T23:35:40.850987Z"
    }
   },
   "cell_type": "code",
   "source": [
    "def get_size_of_model(model):\n",
    "    param_size = 0\n",
    "    for param in model.parameters():\n",
    "        param_size += param.nelement() * param.element_size()\n",
    "    buffer_size = 0\n",
    "    for buffer in model.buffers():\n",
    "        buffer_size += buffer.nelement() * buffer.element_size()\n",
    "    \n",
    "    return (param_size + buffer_size) / 1024**2"
   ],
   "id": "d179861adcf48aae",
   "outputs": [],
   "execution_count": 4
  },
  {
   "metadata": {
    "ExecuteTime": {
     "end_time": "2024-12-10T23:35:41.059888Z",
     "start_time": "2024-12-10T23:35:40.968714Z"
    }
   },
   "cell_type": "code",
   "source": [
    "bert_size = get_size_of_model(bert)\n",
    "# print('model size: {:.3f}MB'.format(bert_size))"
   ],
   "id": "a8595bc1d33aa67",
   "outputs": [],
   "execution_count": 5
  },
  {
   "metadata": {
    "ExecuteTime": {
     "end_time": "2024-12-10T23:35:41.197055Z",
     "start_time": "2024-12-10T23:35:41.090928Z"
    }
   },
   "cell_type": "code",
   "source": [
    "sizes = []\n",
    "sizes_full = []\n",
    "sizes.append({\"model\": \"bert\", \"size\": bert_size})\n",
    "sizes_full.append({\"model\": \"bert\", \"size\": bert_size})"
   ],
   "id": "58ec0b0a2e87c4aa",
   "outputs": [],
   "execution_count": 6
  },
  {
   "metadata": {
    "ExecuteTime": {
     "end_time": "2024-12-10T23:35:43.362890Z",
     "start_time": "2024-12-10T23:35:41.226563Z"
    }
   },
   "cell_type": "code",
   "source": [
    "from custom_model import CustomBert, LoRABert\n",
    "\n",
    "for i in range(1, 5):\n",
    "    model_my = CustomBert(copy.deepcopy(bert), num_adapters=i)\n",
    "    models_LoRA = [LoRABert(copy.deepcopy(bert)) for _ in range(i)]\n",
    "    sizes.append({\"model\": f\"bert_{i}\", \"size\": get_size_of_model(model_my)})\n",
    "    sizes_full.append({\"model\": f\"bert_{i}\", \"size\": sum([get_size_of_model(model) for model in models_LoRA])})"
   ],
   "id": "7919a05c8d762f40",
   "outputs": [
    {
     "name": "stderr",
     "output_type": "stream",
     "text": [
      "C:\\Users\\balanton\\anaconda3\\envs\\mnlp_m2\\lib\\site-packages\\huggingface_hub\\file_download.py:1132: FutureWarning: `resume_download` is deprecated and will be removed in version 1.0.0. Downloads always resume when possible. If you want to force a new download, use `force_download=True`.\n",
      "  warnings.warn(\n"
     ]
    }
   ],
   "execution_count": 7
  },
  {
   "metadata": {
    "ExecuteTime": {
     "end_time": "2024-12-10T23:35:43.860861Z",
     "start_time": "2024-12-10T23:35:43.393963Z"
    }
   },
   "cell_type": "code",
   "source": [
    "import pandas as pd\n",
    "import matplotlib.pyplot as plt\n",
    "\n",
    "df_1 = pd.DataFrame(sizes)\n",
    "df_2 = pd.DataFrame(sizes_full)\n",
    "\n",
    "plt.figure(figsize=(10, 5))\n",
    "# show histogram of model sizes for each model name for both models, add opasity to the bars\n",
    "plt.bar(df_1[\"model\"], df_1[\"size\"], label=\"CustomBert\", alpha=0.5)\n",
    "plt.bar(df_2[\"model\"], df_2[\"size\"], label=\"LoRABert\", alpha=0.5)\n",
    "plt.legend()\n",
    "plt.ylabel(\"Model size (MB)\")\n",
    "plt.xlabel(\"Model\")\n",
    "plt.xticks(rotation=45)\n",
    "plt.show()"
   ],
   "id": "6ac57b59d4d304fb",
   "outputs": [
    {
     "data": {
      "text/plain": [
       "<Figure size 1000x500 with 1 Axes>"
      ],
      "image/png": "[encoded data removed]"
     },
     "metadata": {},
     "output_type": "display_data"
    }
   ],
   "execution_count": 8
  },
  {
   "metadata": {
    "ExecuteTime": {
     "end_time": "2024-12-10T23:35:44.164618Z",
     "start_time": "2024-12-10T23:35:43.907428Z"
    }
   },
   "cell_type": "code",
   "source": [
    "# Define LoRA parameters\n",
    "rank = 8\n",
    "num_adapters = 2\n",
    "\n",
    "from custom_model import CustomBert, LoRABert\n",
    "# Initialize the custom model\n",
    "model = CustomBert(copy.deepcopy(bert), num_adapters=num_adapters).to(device)"
   ],
   "id": "d9b67d416c4320bb",
   "outputs": [
    {
     "name": "stderr",
     "output_type": "stream",
     "text": [
      "C:\\Users\\balanton\\anaconda3\\envs\\mnlp_m2\\lib\\site-packages\\huggingface_hub\\file_download.py:1132: FutureWarning: `resume_download` is deprecated and will be removed in version 1.0.0. Downloads always resume when possible. If you want to force a new download, use `force_download=True`.\n",
      "  warnings.warn(\n"
     ]
    }
   ],
   "execution_count": 9
  },
  {
   "metadata": {
    "ExecuteTime": {
     "end_time": "2024-12-10T23:35:44.918022Z",
     "start_time": "2024-12-10T23:35:44.194579Z"
    }
   },
   "cell_type": "code",
   "source": [
    "tokenizer = AutoTokenizer.from_pretrained(\"google/bert_uncased_L-2_H-128_A-2\")\n",
    "\n",
    "def tokenize_imdb(examples):\n",
    "    return tokenizer(examples[\"text\"], padding=\"max_length\", truncation=True, max_length=128)\n",
    "\n",
    "def tokenize_sst2(examples):\n",
    "    return tokenizer(examples[\"sentence\"], padding=\"max_length\", truncation=True, max_length=128)\n",
    "\n",
    "def get_tokenized_datasets(paths, functions, split=\"train\", batched=True, num_samples=1000):\n",
    "    datasets = [load_dataset(path) for path in paths]\n",
    "    tokenized_datasets = [dataset.map(function, batched=batched)[split].shuffle(seed=42).select(range(num_samples)) for dataset, function in zip(datasets, functions)]\n",
    "    return tokenized_datasets\n",
    "\n",
    "def get_dataloaders(tokenized_datasets, lora_cnt, split=\"train\", batch_size=8):\n",
    "    if split==\"train\":\n",
    "        dataset = IMDBClassificationDataset(tokenized_datasets, lora_cnt=lora_cnt)\n",
    "        return [DataLoader(dataset, shuffle=True, batch_size=batch_size)]\n",
    "    elif split==\"test\":\n",
    "        datasets = [IMDBClassificationDataset(tokenized_datasets, lora_cnt=lora_cnt, id=i) for i in range(lora_cnt)]\n",
    "        return [DataLoader(dataset, shuffle=False, batch_size=batch_size) for dataset in datasets]\n",
    "    else:\n",
    "        raise ValueError(\"Invalid split\")"
   ],
   "id": "d49b3bd8a75d6467",
   "outputs": [],
   "execution_count": 10
  },
  {
   "metadata": {
    "ExecuteTime": {
     "end_time": "2024-12-10T23:16:39.579634Z",
     "start_time": "2024-12-10T23:16:10.980622Z"
    }
   },
   "cell_type": "code",
   "source": [
    "imdb_dataset = load_dataset(\"imdb\")\n",
    "sst2_dataset = load_dataset(\"stanfordnlp/sst2\")\n",
    "\n",
    "tokenized_imdb = imdb_dataset.map(tokenize_imdb, batched=True)\n",
    "tokenized_sst2 = sst2_dataset.map(tokenize_sst2, batched=True)\n",
    "\n",
    "imdb_test = tokenized_imdb[\"test\"].shuffle(seed=42).select(range(1000))\n",
    "sst2_test = tokenized_sst2[\"test\"].shuffle(seed=42).select(range(1000))\n",
    "\n",
    "tokenized_test = [imdb_test, sst2_test]\n",
    "\n",
    "dataset_imdb = IMDBClassificationDataset(tokenized_test, lora_cnt=num_adapters, id=0)\n",
    "dataset_sst2 = IMDBClassificationDataset(tokenized_test, lora_cnt=num_adapters, id=1)\n",
    "test_loaders = [DataLoader(dataset_imdb, shuffle=False, batch_size=8), DataLoader(dataset_sst2, shuffle=False, batch_size=8)]"
   ],
   "id": "845d0b93966bbf02",
   "outputs": [],
   "execution_count": 7
  },
  {
   "metadata": {
    "ExecuteTime": {
     "end_time": "2024-12-10T23:16:46.716864Z",
     "start_time": "2024-12-10T23:16:44.888107Z"
    }
   },
   "cell_type": "code",
   "source": [
    "# Evaluate both adapters on respective datasets\n",
    "# model.eval()\n",
    "criterion = torch.nn.BCELoss()\n",
    "\n",
    "for i in range(num_adapters):\n",
    "    total_loss = 0\n",
    "    for batch in test_loaders[i]:\n",
    "        ids, masks, labels, masking = batch\n",
    "        labels = labels.type(torch.float)\n",
    "        o = model(ids.to(device), masks.to(device), masking.to(device))\n",
    "        loss = criterion(torch.squeeze(o), labels.to(device))\n",
    "        \n",
    "        total_loss += loss.item()\n",
    "        \n",
    "    print(f\"Adapter {i} loss: {total_loss / len(test_loaders[i])}\")"
   ],
   "id": "b8182de951464ffa",
   "outputs": [
    {
     "name": "stderr",
     "output_type": "stream",
     "text": [
      "C:\\Users\\balanton\\anaconda3\\envs\\mnlp_m2\\lib\\site-packages\\transformers\\models\\bert\\modeling_bert.py:442: UserWarning: 1Torch was not compiled with flash attention. (Triggered internally at C:\\cb\\pytorch_1000000000000\\work\\aten\\src\\ATen\\native\\transformers\\cuda\\sdp_utils.cpp:455.)\n",
      "  attn_output = torch.nn.functional.scaled_dot_product_attention(\n"
     ]
    },
    {
     "name": "stdout",
     "output_type": "stream",
     "text": [
      "Adapter 0 loss: 0.6939388260841369\n"
     ]
    },
    {
     "ename": "RuntimeError",
     "evalue": "CUDA error: device-side assert triggered\nCUDA kernel errors might be asynchronously reported at some other API call, so the stacktrace below might be incorrect.\nFor debugging consider passing CUDA_LAUNCH_BLOCKING=1.\nCompile with `TORCH_USE_CUDA_DSA` to enable device-side assertions.\n",
     "output_type": "error",
     "traceback": [
      "\u001B[1;31m---------------------------------------------------------------------------\u001B[0m",
      "\u001B[1;31mRuntimeError\u001B[0m                              Traceback (most recent call last)",
      "Cell \u001B[1;32mIn[8], line 13\u001B[0m\n\u001B[0;32m     10\u001B[0m     o \u001B[38;5;241m=\u001B[39m model(ids\u001B[38;5;241m.\u001B[39mto(device), masks\u001B[38;5;241m.\u001B[39mto(device), masking\u001B[38;5;241m.\u001B[39mto(device))\n\u001B[0;32m     11\u001B[0m     loss \u001B[38;5;241m=\u001B[39m criterion(torch\u001B[38;5;241m.\u001B[39msqueeze(o), labels\u001B[38;5;241m.\u001B[39mto(device))\n\u001B[1;32m---> 13\u001B[0m     total_loss \u001B[38;5;241m+\u001B[39m\u001B[38;5;241m=\u001B[39m \u001B[43mloss\u001B[49m\u001B[38;5;241;43m.\u001B[39;49m\u001B[43mitem\u001B[49m\u001B[43m(\u001B[49m\u001B[43m)\u001B[49m\n\u001B[0;32m     15\u001B[0m \u001B[38;5;28mprint\u001B[39m(\u001B[38;5;124mf\u001B[39m\u001B[38;5;124m\"\u001B[39m\u001B[38;5;124mAdapter \u001B[39m\u001B[38;5;132;01m{\u001B[39;00mi\u001B[38;5;132;01m}\u001B[39;00m\u001B[38;5;124m loss: \u001B[39m\u001B[38;5;132;01m{\u001B[39;00mtotal_loss\u001B[38;5;250m \u001B[39m\u001B[38;5;241m/\u001B[39m\u001B[38;5;250m \u001B[39m\u001B[38;5;28mlen\u001B[39m(test_loaders[i])\u001B[38;5;132;01m}\u001B[39;00m\u001B[38;5;124m\"\u001B[39m)\n",
      "\u001B[1;31mRuntimeError\u001B[0m: CUDA error: device-side assert triggered\nCUDA kernel errors might be asynchronously reported at some other API call, so the stacktrace below might be incorrect.\nFor debugging consider passing CUDA_LAUNCH_BLOCKING=1.\nCompile with `TORCH_USE_CUDA_DSA` to enable device-side assertions.\n"
     ]
    }
   ],
   "execution_count": 8
  },
  {
   "metadata": {
    "ExecuteTime": {
     "end_time": "2024-12-10T23:36:57.911210Z",
     "start_time": "2024-12-10T23:36:11.994569Z"
    }
   },
   "cell_type": "code",
   "source": "tokenized_datasets = get_tokenized_datasets([\"imdb\", \"stanfordnlp/sst2\"], [tokenize_imdb, tokenize_sst2], num_samples=1000, split=\"train\")",
   "id": "73b09760f777e380",
   "outputs": [],
   "execution_count": 11
  },
  {
   "metadata": {
    "ExecuteTime": {
     "end_time": "2024-12-10T23:37:06.322275Z",
     "start_time": "2024-12-10T23:37:06.028218Z"
    }
   },
   "cell_type": "code",
   "source": [
    "# Initialize the custom model\n",
    "model = CustomBert(copy.deepcopy(bert), num_adapters=num_adapters).to(device)\n",
    "\n",
    "# Mark only LoRA parameters as trainable\n",
    "loralib.utils.mark_only_lora_as_trainable(model)\n",
    "\n",
    "# Training loop\n",
    "model.train()\n",
    "criterion = torch.nn.BCELoss()\n",
    "optimizer = AdamW(model.parameters(), lr=5e-5)\n",
    "train_dataloader = get_dataloaders(tokenized_datasets, num_adapters, split=\"train\")[0]\n",
    "\n",
    "num_epochs = 10\n",
    "num_training_steps = num_epochs * len(train_dataloader)\n",
    "lr_scheduler = get_scheduler(\n",
    "    \"linear\",\n",
    "    optimizer=optimizer,\n",
    "    num_warmup_steps=0,\n",
    "    num_training_steps=num_training_steps\n",
    ")"
   ],
   "id": "d977eef8a10619e0",
   "outputs": [
    {
     "name": "stderr",
     "output_type": "stream",
     "text": [
      "C:\\Users\\balanton\\anaconda3\\envs\\mnlp_m2\\lib\\site-packages\\huggingface_hub\\file_download.py:1132: FutureWarning: `resume_download` is deprecated and will be removed in version 1.0.0. Downloads always resume when possible. If you want to force a new download, use `force_download=True`.\n",
      "  warnings.warn(\n"
     ]
    }
   ],
   "execution_count": 12
  },
  {
   "metadata": {
    "ExecuteTime": {
     "end_time": "2024-12-10T23:37:34.331367Z",
     "start_time": "2024-12-10T23:37:08.818073Z"
    }
   },
   "cell_type": "code",
   "source": [
    "for epoch in tqdm.tqdm(range(num_epochs)):\n",
    "    for batch in train_dataloader:\n",
    "        ids, masks, labels, masking = batch\n",
    "        labels = labels.type(torch.float)\n",
    "        o = model(ids.to(device), masks.to(device), masking.to(device))\n",
    "\n",
    "        loss = criterion(torch.squeeze(o), labels.to(device))\n",
    "        loss.backward()\n",
    "\n",
    "        optimizer.step()\n",
    "        lr_scheduler.step()\n",
    "        optimizer.zero_grad()"
   ],
   "id": "52283da3345608a2",
   "outputs": [
    {
     "name": "stderr",
     "output_type": "stream",
     "text": [
      "  0%|          | 0/10 [00:00<?, ?it/s]C:\\Users\\balanton\\anaconda3\\envs\\mnlp_m2\\lib\\site-packages\\transformers\\models\\bert\\modeling_bert.py:442: UserWarning: 1Torch was not compiled with flash attention. (Triggered internally at C:\\cb\\pytorch_1000000000000\\work\\aten\\src\\ATen\\native\\transformers\\cuda\\sdp_utils.cpp:455.)\n",
      "  attn_output = torch.nn.functional.scaled_dot_product_attention(\n",
      "100%|██████████| 10/10 [00:25<00:00,  2.54s/it]\n"
     ]
    }
   ],
   "execution_count": 13
  },
  {
   "metadata": {
    "ExecuteTime": {
     "end_time": "2024-12-10T00:11:43.221433Z",
     "start_time": "2024-12-10T00:11:42.791817Z"
    }
   },
   "cell_type": "code",
   "source": [
    "# save the tokenizer and the model in `./test-model/` directory \n",
    "tokenizer.save_pretrained(\"./test-model/\")\n",
    "model.save_pretrained(\"./test-model/\", push_to_hub=False)"
   ],
   "id": "ea8f75fb27ccf953",
   "outputs": [
    {
     "ename": "ValueError",
     "evalue": "You are trying to save a non contiguous tensor: `bert.encoder.layer.0.attention.self.query.linear.weight` which is not allowed. It either means you are trying to save tensors which are reference of each other in which case it's recommended to save only the full tensors, and reslice at load time, or simply call `.contiguous()` on your tensor to pack it before saving.",
     "output_type": "error",
     "traceback": [
      "\u001B[1;31m---------------------------------------------------------------------------\u001B[0m",
      "\u001B[1;31mValueError\u001B[0m                                Traceback (most recent call last)",
      "Cell \u001B[1;32mIn[91], line 3\u001B[0m\n\u001B[0;32m      1\u001B[0m \u001B[38;5;66;03m# save the tokenizer and the model in `./test-model/` directory \u001B[39;00m\n\u001B[0;32m      2\u001B[0m tokenizer\u001B[38;5;241m.\u001B[39msave_pretrained(\u001B[38;5;124m\"\u001B[39m\u001B[38;5;124m./test-model/\u001B[39m\u001B[38;5;124m\"\u001B[39m)\n\u001B[1;32m----> 3\u001B[0m \u001B[43mmodel\u001B[49m\u001B[38;5;241;43m.\u001B[39;49m\u001B[43msave_pretrained\u001B[49m\u001B[43m(\u001B[49m\u001B[38;5;124;43m\"\u001B[39;49m\u001B[38;5;124;43m./test-model/\u001B[39;49m\u001B[38;5;124;43m\"\u001B[39;49m\u001B[43m,\u001B[49m\u001B[43m \u001B[49m\u001B[43mpush_to_hub\u001B[49m\u001B[38;5;241;43m=\u001B[39;49m\u001B[38;5;28;43;01mFalse\u001B[39;49;00m\u001B[43m)\u001B[49m\n",
      "File \u001B[1;32m~\\anaconda3\\envs\\mnlp_m2\\lib\\site-packages\\transformers\\modeling_utils.py:2612\u001B[0m, in \u001B[0;36mPreTrainedModel.save_pretrained\u001B[1;34m(self, save_directory, is_main_process, state_dict, save_function, push_to_hub, max_shard_size, safe_serialization, variant, token, save_peft_format, **kwargs)\u001B[0m\n\u001B[0;32m   2608\u001B[0m \u001B[38;5;28;01mfor\u001B[39;00m shard_file, shard \u001B[38;5;129;01min\u001B[39;00m shards\u001B[38;5;241m.\u001B[39mitems():\n\u001B[0;32m   2609\u001B[0m     \u001B[38;5;28;01mif\u001B[39;00m safe_serialization:\n\u001B[0;32m   2610\u001B[0m         \u001B[38;5;66;03m# At some point we will need to deal better with save_function (used for TPU and other distributed\u001B[39;00m\n\u001B[0;32m   2611\u001B[0m         \u001B[38;5;66;03m# joyfulness), but for now this enough.\u001B[39;00m\n\u001B[1;32m-> 2612\u001B[0m         \u001B[43msafe_save_file\u001B[49m\u001B[43m(\u001B[49m\u001B[43mshard\u001B[49m\u001B[43m,\u001B[49m\u001B[43m \u001B[49m\u001B[43mos\u001B[49m\u001B[38;5;241;43m.\u001B[39;49m\u001B[43mpath\u001B[49m\u001B[38;5;241;43m.\u001B[39;49m\u001B[43mjoin\u001B[49m\u001B[43m(\u001B[49m\u001B[43msave_directory\u001B[49m\u001B[43m,\u001B[49m\u001B[43m \u001B[49m\u001B[43mshard_file\u001B[49m\u001B[43m)\u001B[49m\u001B[43m,\u001B[49m\u001B[43m \u001B[49m\u001B[43mmetadata\u001B[49m\u001B[38;5;241;43m=\u001B[39;49m\u001B[43m{\u001B[49m\u001B[38;5;124;43m\"\u001B[39;49m\u001B[38;5;124;43mformat\u001B[39;49m\u001B[38;5;124;43m\"\u001B[39;49m\u001B[43m:\u001B[49m\u001B[43m \u001B[49m\u001B[38;5;124;43m\"\u001B[39;49m\u001B[38;5;124;43mpt\u001B[39;49m\u001B[38;5;124;43m\"\u001B[39;49m\u001B[43m}\u001B[49m\u001B[43m)\u001B[49m\n\u001B[0;32m   2613\u001B[0m     \u001B[38;5;28;01melse\u001B[39;00m:\n\u001B[0;32m   2614\u001B[0m         save_function(shard, os\u001B[38;5;241m.\u001B[39mpath\u001B[38;5;241m.\u001B[39mjoin(save_directory, shard_file))\n",
      "File \u001B[1;32m~\\anaconda3\\envs\\mnlp_m2\\lib\\site-packages\\safetensors\\torch.py:284\u001B[0m, in \u001B[0;36msave_file\u001B[1;34m(tensors, filename, metadata)\u001B[0m\n\u001B[0;32m    253\u001B[0m \u001B[38;5;28;01mdef\u001B[39;00m \u001B[38;5;21msave_file\u001B[39m(\n\u001B[0;32m    254\u001B[0m     tensors: Dict[\u001B[38;5;28mstr\u001B[39m, torch\u001B[38;5;241m.\u001B[39mTensor],\n\u001B[0;32m    255\u001B[0m     filename: Union[\u001B[38;5;28mstr\u001B[39m, os\u001B[38;5;241m.\u001B[39mPathLike],\n\u001B[0;32m    256\u001B[0m     metadata: Optional[Dict[\u001B[38;5;28mstr\u001B[39m, \u001B[38;5;28mstr\u001B[39m]] \u001B[38;5;241m=\u001B[39m \u001B[38;5;28;01mNone\u001B[39;00m,\n\u001B[0;32m    257\u001B[0m ):\n\u001B[0;32m    258\u001B[0m \u001B[38;5;250m    \u001B[39m\u001B[38;5;124;03m\"\"\"\u001B[39;00m\n\u001B[0;32m    259\u001B[0m \u001B[38;5;124;03m    Saves a dictionary of tensors into raw bytes in safetensors format.\u001B[39;00m\n\u001B[0;32m    260\u001B[0m \n\u001B[1;32m   (...)\u001B[0m\n\u001B[0;32m    282\u001B[0m \u001B[38;5;124;03m    ```\u001B[39;00m\n\u001B[0;32m    283\u001B[0m \u001B[38;5;124;03m    \"\"\"\u001B[39;00m\n\u001B[1;32m--> 284\u001B[0m     serialize_file(\u001B[43m_flatten\u001B[49m\u001B[43m(\u001B[49m\u001B[43mtensors\u001B[49m\u001B[43m)\u001B[49m, filename, metadata\u001B[38;5;241m=\u001B[39mmetadata)\n",
      "File \u001B[1;32m~\\anaconda3\\envs\\mnlp_m2\\lib\\site-packages\\safetensors\\torch.py:488\u001B[0m, in \u001B[0;36m_flatten\u001B[1;34m(tensors)\u001B[0m\n\u001B[0;32m    479\u001B[0m \u001B[38;5;28;01mif\u001B[39;00m failing:\n\u001B[0;32m    480\u001B[0m     \u001B[38;5;28;01mraise\u001B[39;00m \u001B[38;5;167;01mRuntimeError\u001B[39;00m(\n\u001B[0;32m    481\u001B[0m         \u001B[38;5;124mf\u001B[39m\u001B[38;5;124m\"\"\"\u001B[39m\n\u001B[0;32m    482\u001B[0m \u001B[38;5;124m        Some tensors share memory, this will lead to duplicate memory on disk and potential differences when loading them again: \u001B[39m\u001B[38;5;132;01m{\u001B[39;00mfailing\u001B[38;5;132;01m}\u001B[39;00m\u001B[38;5;124m.\u001B[39m\n\u001B[1;32m   (...)\u001B[0m\n\u001B[0;32m    485\u001B[0m \u001B[38;5;124m        \u001B[39m\u001B[38;5;124m\"\"\"\u001B[39m\n\u001B[0;32m    486\u001B[0m     )\n\u001B[1;32m--> 488\u001B[0m \u001B[38;5;28;01mreturn\u001B[39;00m {\n\u001B[0;32m    489\u001B[0m     k: {\n\u001B[0;32m    490\u001B[0m         \u001B[38;5;124m\"\u001B[39m\u001B[38;5;124mdtype\u001B[39m\u001B[38;5;124m\"\u001B[39m: \u001B[38;5;28mstr\u001B[39m(v\u001B[38;5;241m.\u001B[39mdtype)\u001B[38;5;241m.\u001B[39msplit(\u001B[38;5;124m\"\u001B[39m\u001B[38;5;124m.\u001B[39m\u001B[38;5;124m\"\u001B[39m)[\u001B[38;5;241m-\u001B[39m\u001B[38;5;241m1\u001B[39m],\n\u001B[0;32m    491\u001B[0m         \u001B[38;5;124m\"\u001B[39m\u001B[38;5;124mshape\u001B[39m\u001B[38;5;124m\"\u001B[39m: v\u001B[38;5;241m.\u001B[39mshape,\n\u001B[0;32m    492\u001B[0m         \u001B[38;5;124m\"\u001B[39m\u001B[38;5;124mdata\u001B[39m\u001B[38;5;124m\"\u001B[39m: _tobytes(v, k),\n\u001B[0;32m    493\u001B[0m     }\n\u001B[0;32m    494\u001B[0m     \u001B[38;5;28;01mfor\u001B[39;00m k, v \u001B[38;5;129;01min\u001B[39;00m tensors\u001B[38;5;241m.\u001B[39mitems()\n\u001B[0;32m    495\u001B[0m }\n",
      "File \u001B[1;32m~\\anaconda3\\envs\\mnlp_m2\\lib\\site-packages\\safetensors\\torch.py:492\u001B[0m, in \u001B[0;36m<dictcomp>\u001B[1;34m(.0)\u001B[0m\n\u001B[0;32m    479\u001B[0m \u001B[38;5;28;01mif\u001B[39;00m failing:\n\u001B[0;32m    480\u001B[0m     \u001B[38;5;28;01mraise\u001B[39;00m \u001B[38;5;167;01mRuntimeError\u001B[39;00m(\n\u001B[0;32m    481\u001B[0m         \u001B[38;5;124mf\u001B[39m\u001B[38;5;124m\"\"\"\u001B[39m\n\u001B[0;32m    482\u001B[0m \u001B[38;5;124m        Some tensors share memory, this will lead to duplicate memory on disk and potential differences when loading them again: \u001B[39m\u001B[38;5;132;01m{\u001B[39;00mfailing\u001B[38;5;132;01m}\u001B[39;00m\u001B[38;5;124m.\u001B[39m\n\u001B[1;32m   (...)\u001B[0m\n\u001B[0;32m    485\u001B[0m \u001B[38;5;124m        \u001B[39m\u001B[38;5;124m\"\"\"\u001B[39m\n\u001B[0;32m    486\u001B[0m     )\n\u001B[0;32m    488\u001B[0m \u001B[38;5;28;01mreturn\u001B[39;00m {\n\u001B[0;32m    489\u001B[0m     k: {\n\u001B[0;32m    490\u001B[0m         \u001B[38;5;124m\"\u001B[39m\u001B[38;5;124mdtype\u001B[39m\u001B[38;5;124m\"\u001B[39m: \u001B[38;5;28mstr\u001B[39m(v\u001B[38;5;241m.\u001B[39mdtype)\u001B[38;5;241m.\u001B[39msplit(\u001B[38;5;124m\"\u001B[39m\u001B[38;5;124m.\u001B[39m\u001B[38;5;124m\"\u001B[39m)[\u001B[38;5;241m-\u001B[39m\u001B[38;5;241m1\u001B[39m],\n\u001B[0;32m    491\u001B[0m         \u001B[38;5;124m\"\u001B[39m\u001B[38;5;124mshape\u001B[39m\u001B[38;5;124m\"\u001B[39m: v\u001B[38;5;241m.\u001B[39mshape,\n\u001B[1;32m--> 492\u001B[0m         \u001B[38;5;124m\"\u001B[39m\u001B[38;5;124mdata\u001B[39m\u001B[38;5;124m\"\u001B[39m: \u001B[43m_tobytes\u001B[49m\u001B[43m(\u001B[49m\u001B[43mv\u001B[49m\u001B[43m,\u001B[49m\u001B[43m \u001B[49m\u001B[43mk\u001B[49m\u001B[43m)\u001B[49m,\n\u001B[0;32m    493\u001B[0m     }\n\u001B[0;32m    494\u001B[0m     \u001B[38;5;28;01mfor\u001B[39;00m k, v \u001B[38;5;129;01min\u001B[39;00m tensors\u001B[38;5;241m.\u001B[39mitems()\n\u001B[0;32m    495\u001B[0m }\n",
      "File \u001B[1;32m~\\anaconda3\\envs\\mnlp_m2\\lib\\site-packages\\safetensors\\torch.py:406\u001B[0m, in \u001B[0;36m_tobytes\u001B[1;34m(tensor, name)\u001B[0m\n\u001B[0;32m    399\u001B[0m     \u001B[38;5;28;01mraise\u001B[39;00m \u001B[38;5;167;01mValueError\u001B[39;00m(\n\u001B[0;32m    400\u001B[0m         \u001B[38;5;124mf\u001B[39m\u001B[38;5;124m\"\u001B[39m\u001B[38;5;124mYou are trying to save a sparse tensor: `\u001B[39m\u001B[38;5;132;01m{\u001B[39;00mname\u001B[38;5;132;01m}\u001B[39;00m\u001B[38;5;124m` which this library does not support.\u001B[39m\u001B[38;5;124m\"\u001B[39m\n\u001B[0;32m    401\u001B[0m         \u001B[38;5;124m\"\u001B[39m\u001B[38;5;124m You can make it a dense tensor before saving with `.to_dense()` but be aware this might\u001B[39m\u001B[38;5;124m\"\u001B[39m\n\u001B[0;32m    402\u001B[0m         \u001B[38;5;124m\"\u001B[39m\u001B[38;5;124m make a much larger file than needed.\u001B[39m\u001B[38;5;124m\"\u001B[39m\n\u001B[0;32m    403\u001B[0m     )\n\u001B[0;32m    405\u001B[0m \u001B[38;5;28;01mif\u001B[39;00m \u001B[38;5;129;01mnot\u001B[39;00m tensor\u001B[38;5;241m.\u001B[39mis_contiguous():\n\u001B[1;32m--> 406\u001B[0m     \u001B[38;5;28;01mraise\u001B[39;00m \u001B[38;5;167;01mValueError\u001B[39;00m(\n\u001B[0;32m    407\u001B[0m         \u001B[38;5;124mf\u001B[39m\u001B[38;5;124m\"\u001B[39m\u001B[38;5;124mYou are trying to save a non contiguous tensor: `\u001B[39m\u001B[38;5;132;01m{\u001B[39;00mname\u001B[38;5;132;01m}\u001B[39;00m\u001B[38;5;124m` which is not allowed. It either means you\u001B[39m\u001B[38;5;124m\"\u001B[39m\n\u001B[0;32m    408\u001B[0m         \u001B[38;5;124m\"\u001B[39m\u001B[38;5;124m are trying to save tensors which are reference of each other in which case it\u001B[39m\u001B[38;5;124m'\u001B[39m\u001B[38;5;124ms recommended to save\u001B[39m\u001B[38;5;124m\"\u001B[39m\n\u001B[0;32m    409\u001B[0m         \u001B[38;5;124m\"\u001B[39m\u001B[38;5;124m only the full tensors, and reslice at load time, or simply call `.contiguous()` on your tensor to\u001B[39m\u001B[38;5;124m\"\u001B[39m\n\u001B[0;32m    410\u001B[0m         \u001B[38;5;124m\"\u001B[39m\u001B[38;5;124m pack it before saving.\u001B[39m\u001B[38;5;124m\"\u001B[39m\n\u001B[0;32m    411\u001B[0m     )\n\u001B[0;32m    412\u001B[0m \u001B[38;5;28;01mif\u001B[39;00m tensor\u001B[38;5;241m.\u001B[39mdevice\u001B[38;5;241m.\u001B[39mtype \u001B[38;5;241m!=\u001B[39m \u001B[38;5;124m\"\u001B[39m\u001B[38;5;124mcpu\u001B[39m\u001B[38;5;124m\"\u001B[39m:\n\u001B[0;32m    413\u001B[0m     \u001B[38;5;66;03m# Moving tensor to cpu before saving\u001B[39;00m\n\u001B[0;32m    414\u001B[0m     tensor \u001B[38;5;241m=\u001B[39m tensor\u001B[38;5;241m.\u001B[39mto(\u001B[38;5;124m\"\u001B[39m\u001B[38;5;124mcpu\u001B[39m\u001B[38;5;124m\"\u001B[39m)\n",
      "\u001B[1;31mValueError\u001B[0m: You are trying to save a non contiguous tensor: `bert.encoder.layer.0.attention.self.query.linear.weight` which is not allowed. It either means you are trying to save tensors which are reference of each other in which case it's recommended to save only the full tensors, and reslice at load time, or simply call `.contiguous()` on your tensor to pack it before saving."
     ]
    }
   ],
   "execution_count": 91
  },
  {
   "metadata": {},
   "cell_type": "code",
   "outputs": [],
   "execution_count": null,
   "source": [
    "from transformers import pipeline\n",
    "\n",
    "# as this is classification so you need to mention `text-classification` as task\n",
    "classifier = pipeline('text-classification', model='tanmoyio/test-model')\n",
    "classifier(\"This movie was superb\")\n"
   ],
   "id": "d44ff93641eb817d"
  },
  {
   "metadata": {},
   "cell_type": "markdown",
   "source": [
    "# Masking\n",
    "---\n",
    "# Parallel"
   ],
   "id": "3c6d27b4cfe37a03"
  },
  {
   "metadata": {
    "ExecuteTime": {
     "end_time": "2024-12-10T23:27:40.122739Z",
     "start_time": "2024-12-10T23:27:38.768614Z"
    }
   },
   "cell_type": "code",
   "outputs": [
    {
     "name": "stderr",
     "output_type": "stream",
     "text": [
      "C:\\Users\\balanton\\anaconda3\\envs\\mnlp_m2\\lib\\site-packages\\huggingface_hub\\file_download.py:1132: FutureWarning: `resume_download` is deprecated and will be removed in version 1.0.0. Downloads always resume when possible. If you want to force a new download, use `force_download=True`.\n",
      "  warnings.warn(\n"
     ]
    }
   ],
   "execution_count": 2,
   "source": [
    "# setting device to `cuda` if gpu exists\n",
    "device = torch.device(\"cuda\") if torch.cuda.is_available() else torch.device(\"cpu\")\n",
    "\n",
    "# initialising the tokenizer and model\n",
    "tokenizer = AutoTokenizer.from_pretrained(\"google/bert_uncased_L-2_H-128_A-2\")\n",
    "bert = AutoModel.from_pretrained(\"google/bert_uncased_L-2_H-128_A-2\", device_map=\"auto\")\n",
    "# bert = BertPreTrainedModel_masking.from_pretrained(\"google/bert_uncased_L-2_H-128_A-2\", device_map=\"auto\")\n",
    "\n",
    "# Define LoRA parameters\n",
    "rank = 8\n",
    "num_adapters = 2"
   ],
   "id": "3244a6ed45a0debf"
  },
  {
   "metadata": {
    "ExecuteTime": {
     "end_time": "2024-12-10T23:27:41.903023Z",
     "start_time": "2024-12-10T23:27:40.291324Z"
    }
   },
   "cell_type": "code",
   "outputs": [
    {
     "name": "stderr",
     "output_type": "stream",
     "text": [
      "C:\\Users\\balanton\\anaconda3\\envs\\mnlp_m2\\lib\\site-packages\\huggingface_hub\\file_download.py:1132: FutureWarning: `resume_download` is deprecated and will be removed in version 1.0.0. Downloads always resume when possible. If you want to force a new download, use `force_download=True`.\n",
      "  warnings.warn(\n"
     ]
    }
   ],
   "execution_count": 3,
   "source": [
    "# initialising the tokenizer\n",
    "tokenizer = AutoTokenizer.from_pretrained(\"google/bert_uncased_L-2_H-128_A-2\")\n",
    "\n",
    "def tokenize_imdb(examples):\n",
    "    return tokenizer(examples[\"text\"], padding=\"max_length\", truncation=True, max_length=128)\n",
    "\n",
    "def tokenize_sst2(examples):\n",
    "    return tokenizer(examples[\"sentence\"], padding=\"max_length\", truncation=True, max_length=128)\n",
    "\n",
    "# Now lets create the torch Dataset class\n",
    "class IMDBClassificationDataset(Dataset):\n",
    "    def __init__(self, datasets, lora_cnt=2, id=None):\n",
    "        self.datasets = datasets\n",
    "        self.id = id\n",
    "        self.lora_cnt = lora_cnt\n",
    "\n",
    "    def __len__(self):\n",
    "        if self.id is not None:\n",
    "            return len(self.datasets[self.id])\n",
    "        else:\n",
    "            return sum([len(d) for d in self.datasets])\n",
    "\n",
    "    def __getitem__(self, idx):\n",
    "        masking = torch.zeros(self.lora_cnt)\n",
    "        \n",
    "        if self.id is not None:\n",
    "            masking[self.id] = 1    \n",
    "            d = self.datasets[self.id][idx]\n",
    "        else:\n",
    "            masking[idx % self.lora_cnt] = 1\n",
    "            d = self.datasets[idx % self.lora_cnt][idx // self.lora_cnt]\n",
    "        \n",
    "        ids = torch.tensor(d['input_ids'])\n",
    "        mask = torch.tensor(d['attention_mask'])\n",
    "        label = torch.tensor(d['label'])\n",
    "        \n",
    "        return ids, mask, label, masking"
   ],
   "id": "1b735c04c2509057"
  },
  {
   "metadata": {
    "ExecuteTime": {
     "end_time": "2024-12-10T23:27:42.202428Z",
     "start_time": "2024-12-10T23:27:42.110798Z"
    }
   },
   "cell_type": "code",
   "outputs": [],
   "execution_count": 4,
   "source": [
    "import concurrent\n",
    "\n",
    "\n",
    "class ParallelTrainer:\n",
    "    def __init__(self, model, device, num_adapters=2):\n",
    "        self.model = model\n",
    "        self.device = device\n",
    "        self.num_adapters = num_adapters             \n",
    "    \n",
    "    def train_model(self, train_dataloader, num_epochs=3):\n",
    "        # model.train()\n",
    "        criterion = torch.nn.BCELoss()\n",
    "        optimizer = AdamW(model.parameters(), lr=5e-5)\n",
    "        num_training_steps = num_epochs * len(train_dataloader)\n",
    "        lr_scheduler = get_scheduler(\n",
    "            \"linear\",\n",
    "            optimizer=optimizer,\n",
    "            num_warmup_steps=0,\n",
    "            num_training_steps=num_training_steps\n",
    "        )\n",
    "\n",
    "        for epoch in tqdm.tqdm(range(num_epochs)):\n",
    "            for batch in train_dataloader:\n",
    "                ids, masks, labels, masking = batch\n",
    "                labels = labels.type(torch.float32)\n",
    "                o = model(ids.to(device), masks.to(device), masking.to(device))\n",
    "                loss = criterion(torch.squeeze(o), labels.to(device))\n",
    "                loss.backward()\n",
    "\n",
    "                optimizer.step()\n",
    "                lr_scheduler.step()\n",
    "                optimizer.zero_grad() \n",
    "                \n",
    "    def train(self, train_dataloaders, num_epochs=3):\n",
    "        model.train()\n",
    "        with concurrent.futures.ThreadPoolExecutor() as executor:\n",
    "            futures = [executor.submit(self.train_model, dataloader, num_epochs) for dataloader in train_dataloaders]\n",
    "            concurrent.futures.wait(futures)"
   ],
   "id": "5fc08036e25166a8"
  },
  {
   "metadata": {
    "ExecuteTime": {
     "end_time": "2024-12-10T23:27:42.517035Z",
     "start_time": "2024-12-10T23:27:42.233428Z"
    }
   },
   "cell_type": "code",
   "outputs": [],
   "execution_count": 5,
   "source": [
    "from custom_model import CustomBert\n",
    "\n",
    "model = CustomBert(copy.deepcopy(bert), num_adapters=num_adapters).to(device)\n",
    "\n",
    "loralib.utils.mark_only_lora_as_trainable(model)\n",
    "\n",
    "# Initialize the parallel trainer\n",
    "trainer = ParallelTrainer(model, device, num_adapters=num_adapters)"
   ],
   "id": "5babd8a38058240c"
  },
  {
   "metadata": {
    "ExecuteTime": {
     "end_time": "2024-12-10T23:28:10.568731Z",
     "start_time": "2024-12-10T23:27:42.546891Z"
    }
   },
   "cell_type": "code",
   "outputs": [],
   "execution_count": 6,
   "source": [
    "imdb_dataset = load_dataset(\"imdb\")\n",
    "sst2_dataset = load_dataset(\"stanfordnlp/sst2\")\n",
    "\n",
    "tokenized_imdb = imdb_dataset.map(tokenize_imdb, batched=True)\n",
    "tokenized_sst2 = sst2_dataset.map(tokenize_sst2, batched=True)\n",
    "\n",
    "tokenized_imdb = tokenized_imdb[\"train\"].shuffle(seed=42).select(range(1000))\n",
    "tokenized_sst2 = tokenized_sst2[\"train\"].shuffle(seed=42).select(range(1000))\n",
    "\n",
    "tokenized_datasets = [tokenized_imdb, tokenized_sst2]\n",
    "\n",
    "dataset_imdb = IMDBClassificationDataset(tokenized_datasets, lora_cnt=num_adapters, id=0)\n",
    "dataset_sst2 = IMDBClassificationDataset(tokenized_datasets, lora_cnt=num_adapters, id=1)\n",
    "test_loaders = [DataLoader(dataset_imdb, shuffle=False, batch_size=8), DataLoader(dataset_sst2, shuffle=False, batch_size=8)]"
   ],
   "id": "4db71ed93cae01c"
  },
  {
   "metadata": {
    "ExecuteTime": {
     "start_time": "2024-12-10T23:28:10.613170Z"
    }
   },
   "cell_type": "code",
   "outputs": [
    {
     "name": "stderr",
     "output_type": "stream",
     "text": [
      "\n",
      "  0%|          | 0/3 [00:00<?, ?it/s]\u001B[AC:\\Users\\balanton\\anaconda3\\envs\\mnlp_m2\\lib\\site-packages\\transformers\\models\\bert\\modeling_bert.py:442: UserWarning: 1Torch was not compiled with flash attention. (Triggered internally at C:\\cb\\pytorch_1000000000000\\work\\aten\\src\\ATen\\native\\transformers\\cuda\\sdp_utils.cpp:455.)\n",
      "  attn_output = torch.nn.functional.scaled_dot_product_attention(\n"
     ]
    }
   ],
   "execution_count": null,
   "source": "trainer.train(test_loaders, num_epochs=3)",
   "id": "8deef8f844589118"
  }
 ],
 "metadata": {
  "kernelspec": {
   "display_name": "Python 3",
   "language": "python",
   "name": "python3"
  },
  "language_info": {
   "codemirror_mode": {
    "name": "ipython",
    "version": 2
   },
   "file_extension": ".py",
   "mimetype": "text/x-python",
   "name": "python",
   "nbconvert_exporter": "python",
   "pygments_lexer": "ipython2",
   "version": "2.7.6"
  }
 },
 "nbformat": 4,
 "nbformat_minor": 5
}
