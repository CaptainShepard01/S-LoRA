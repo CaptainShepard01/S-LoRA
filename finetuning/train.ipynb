{
 "cells": [
  {
   "metadata": {
    "ExecuteTime": {
     "end_time": "2024-12-29T17:59:14.802355Z",
     "start_time": "2024-12-29T17:59:10.664485Z"
    }
   },
   "cell_type": "code",
   "source": [
    "import copy\n",
    "import time\n",
    "import tqdm\n",
    "import numpy as np\n",
    "\n",
    "from datasets import load_dataset\n",
    "from transformers import AutoTokenizer, AutoModel\n",
    "from torch.optim import AdamW\n",
    "from transformers import get_scheduler\n",
    "\n",
    "import torch\n",
    "from torch.utils.data import Dataset, DataLoader\n",
    "\n",
    "import loralib"
   ],
   "id": "c2bb9895b2c58ab5",
   "outputs": [
    {
     "name": "stderr",
     "output_type": "stream",
     "text": [
      "C:\\Users\\balanton\\anaconda3\\envs\\semester_project\\Lib\\site-packages\\tqdm\\auto.py:21: TqdmWarning: IProgress not found. Please update jupyter and ipywidgets. See https://ipywidgets.readthedocs.io/en/stable/user_install.html\n",
      "  from .autonotebook import tqdm as notebook_tqdm\n"
     ]
    }
   ],
   "execution_count": 1
  },
  {
   "metadata": {},
   "cell_type": "markdown",
   "source": "# Masking",
   "id": "f37a65bcf9d4a78b"
  },
  {
   "metadata": {
    "ExecuteTime": {
     "end_time": "2024-12-29T17:59:14.810296Z",
     "start_time": "2024-12-29T17:59:14.803367Z"
    }
   },
   "cell_type": "code",
   "source": [
    "class IMDBClassificationDataset(Dataset):\n",
    "    def __init__(self, datasets, lora_cnt=2, id=None):\n",
    "        self.datasets = datasets\n",
    "        self.id = id\n",
    "        self.lora_cnt = lora_cnt\n",
    "\n",
    "    def __len__(self):\n",
    "        if self.id is not None:\n",
    "            return len(self.datasets[0])\n",
    "        else:\n",
    "            return sum([len(d) for d in self.datasets])\n",
    "\n",
    "    def __getitem__(self, idx):\n",
    "        masking = torch.zeros(self.lora_cnt)\n",
    "        \n",
    "        if self.id is not None:\n",
    "            masking[self.id] = 1\n",
    "            d = self.datasets[0][idx]\n",
    "        else:\n",
    "            masking[idx % self.lora_cnt] = 1\n",
    "            d = self.datasets[idx % self.lora_cnt][idx // self.lora_cnt]\n",
    "        \n",
    "        ids = torch.tensor(d['input_ids'])\n",
    "        mask = torch.tensor(d['attention_mask'])\n",
    "        label = torch.tensor(d['label'])\n",
    "        \n",
    "        return ids, mask, label, masking"
   ],
   "id": "7b09301b88f4ab73",
   "outputs": [],
   "execution_count": 2
  },
  {
   "metadata": {
    "ExecuteTime": {
     "end_time": "2024-12-29T18:00:10.084294Z",
     "start_time": "2024-12-29T18:00:10.078235Z"
    }
   },
   "cell_type": "code",
   "source": [
    "# setting device to `cuda` if gpu exists\n",
    "device = torch.device(\"cuda\") if torch.cuda.is_available() else torch.device(\"cpu\")\n",
    "print(device)\n",
    "\n",
    "# initialising the model\n",
    "# bert = AutoModel.from_pretrained(\"google/bert_uncased_L-2_H-128_A-2\", device_map=\"auto\")\n",
    "# bert = BertPreTrainedModel_masking.from_pretrained(\"google/bert_uncased_L-2_H-128_A-2\", device_map=\"auto\")"
   ],
   "id": "ed62fdabe1b22d40",
   "outputs": [
    {
     "name": "stdout",
     "output_type": "stream",
     "text": [
      "cuda\n"
     ]
    }
   ],
   "execution_count": 7
  },
  {
   "metadata": {
    "ExecuteTime": {
     "end_time": "2024-12-29T17:59:59.133162Z",
     "start_time": "2024-12-29T17:59:58.573037Z"
    }
   },
   "cell_type": "code",
   "source": [
    "import bert_multi_lora\n",
    "\n",
    "bert = bert_multi_lora.BertModel.from_pretrained(\"google/bert_uncased_L-2_H-128_A-2\", device_map=\"auto\")"
   ],
   "id": "1acf22ce2ab3c3ce",
   "outputs": [],
   "execution_count": 5
  },
  {
   "metadata": {
    "ExecuteTime": {
     "end_time": "2024-12-25T23:18:14.024308Z",
     "start_time": "2024-12-25T23:18:14.012905Z"
    }
   },
   "cell_type": "code",
   "source": [
    "def get_size_of_model(model):\n",
    "    param_size = 0\n",
    "    for param in model.parameters():\n",
    "        param_size += param.nelement() * param.element_size()\n",
    "    buffer_size = 0\n",
    "    for buffer in model.buffers():\n",
    "        buffer_size += buffer.nelement() * buffer.element_size()\n",
    "    \n",
    "    return (param_size + buffer_size) / 1024**2"
   ],
   "id": "d179861adcf48aae",
   "outputs": [],
   "execution_count": 6
  },
  {
   "metadata": {
    "ExecuteTime": {
     "end_time": "2024-12-25T23:18:14.588876Z",
     "start_time": "2024-12-25T23:18:14.572234Z"
    }
   },
   "cell_type": "code",
   "source": [
    "bert_size = get_size_of_model(bert)\n",
    "# print('model size: {:.3f}MB'.format(bert_size))"
   ],
   "id": "a8595bc1d33aa67",
   "outputs": [],
   "execution_count": 7
  },
  {
   "metadata": {
    "ExecuteTime": {
     "end_time": "2024-12-25T23:18:16.112005Z",
     "start_time": "2024-12-25T23:18:16.107810Z"
    }
   },
   "cell_type": "code",
   "source": [
    "sizes = []\n",
    "sizes_full = []\n",
    "sizes.append({\"model\": \"bert\", \"size\": bert_size})\n",
    "sizes_full.append({\"model\": \"bert\", \"size\": bert_size})"
   ],
   "id": "58ec0b0a2e87c4aa",
   "outputs": [],
   "execution_count": 8
  },
  {
   "metadata": {
    "ExecuteTime": {
     "end_time": "2024-12-25T23:18:19.308690Z",
     "start_time": "2024-12-25T23:18:16.841526Z"
    }
   },
   "cell_type": "code",
   "source": [
    "from custom_model import CustomBert, LoRABert\n",
    "\n",
    "for i in range(1, 5):\n",
    "    model_my = CustomBert(copy.deepcopy(bert), num_adapters=i)\n",
    "    models_LoRA = [LoRABert(copy.deepcopy(bert)) for _ in range(i)]\n",
    "    sizes.append({\"model\": f\"bert_{i}\", \"size\": get_size_of_model(model_my)})\n",
    "    sizes_full.append({\"model\": f\"bert_{i}\", \"size\": sum([get_size_of_model(model) for model in models_LoRA])})"
   ],
   "id": "7919a05c8d762f40",
   "outputs": [
    {
     "name": "stderr",
     "output_type": "stream",
     "text": [
      "C:\\Users\\balanton\\anaconda3\\envs\\mnlp_m2\\lib\\site-packages\\huggingface_hub\\file_download.py:1132: FutureWarning: `resume_download` is deprecated and will be removed in version 1.0.0. Downloads always resume when possible. If you want to force a new download, use `force_download=True`.\n",
      "  warnings.warn(\n"
     ]
    }
   ],
   "execution_count": 9
  },
  {
   "metadata": {
    "ExecuteTime": {
     "end_time": "2024-12-25T23:18:20.599902Z",
     "start_time": "2024-12-25T23:18:20.569365Z"
    }
   },
   "cell_type": "code",
   "source": [
    "import pandas as pd\n",
    "\n",
    "df_1 = pd.DataFrame(sizes)\n",
    "df_2 = pd.DataFrame(sizes_full)"
   ],
   "id": "b800adf06dbe6e68",
   "outputs": [],
   "execution_count": 10
  },
  {
   "metadata": {
    "ExecuteTime": {
     "end_time": "2024-12-25T23:18:23.714039Z",
     "start_time": "2024-12-25T23:18:23.497468Z"
    }
   },
   "cell_type": "code",
   "source": [
    "from custom_model import CustomBert, LoRABert\n",
    "\n",
    "model = CustomBert(copy.deepcopy(bert), num_adapters=3)"
   ],
   "id": "bd05717e7026bbc9",
   "outputs": [
    {
     "name": "stderr",
     "output_type": "stream",
     "text": [
      "C:\\Users\\balanton\\anaconda3\\envs\\mnlp_m2\\lib\\site-packages\\huggingface_hub\\file_download.py:1132: FutureWarning: `resume_download` is deprecated and will be removed in version 1.0.0. Downloads always resume when possible. If you want to force a new download, use `force_download=True`.\n",
      "  warnings.warn(\n"
     ]
    }
   ],
   "execution_count": 13
  },
  {
   "metadata": {
    "ExecuteTime": {
     "end_time": "2024-12-25T23:18:26.116171Z",
     "start_time": "2024-12-25T23:18:25.340693Z"
    }
   },
   "cell_type": "code",
   "source": [
    "import pandas as pd\n",
    "import matplotlib.pyplot as plt\n",
    "\n",
    "df_1 = pd.DataFrame(sizes)\n",
    "df_2 = pd.DataFrame(sizes_full)\n",
    "\n",
    "fig, ax = plt.subplots(figsize=(10, 5))\n",
    "\n",
    "index = np.arange(len(df_1))\n",
    "bar_width = 0.35\n",
    "\n",
    "opacity = 0.5\n",
    "\n",
    "ax.bar(index, df_1[\"size\"], bar_width, alpha=opacity, color='b', label='CustomBert')\n",
    "ax.bar(index + bar_width, df_2[\"size\"], bar_width, alpha=opacity, color='r', label='LoRABert')\n",
    "\n",
    "ax.legend()\n",
    "ax.set_ylabel(\"Size (MB)\")\n",
    "ax.set_xlabel(\"Model\")\n",
    "ax.set_xticks(index + bar_width / 2)\n",
    "ax.set_xticklabels(df_1[\"model\"], rotation=45)\n",
    "plt.show()"
   ],
   "id": "6ac57b59d4d304fb",
   "outputs": [
    {
     "data": {
      "text/plain": [
       "<Figure size 1000x500 with 1 Axes>"
      ],
      "image/png": "[encoded data removed]"
     },
     "metadata": {},
     "output_type": "display_data"
    }
   ],
   "execution_count": 14
  },
  {
   "metadata": {
    "ExecuteTime": {
     "end_time": "2024-12-29T18:00:14.120939Z",
     "start_time": "2024-12-29T18:00:13.941492Z"
    }
   },
   "cell_type": "code",
   "source": [
    "# Define LoRA parameters\n",
    "rank = 8\n",
    "num_adapters = 2\n",
    "\n",
    "from custom_model import CustomBert, LoRABert\n",
    "# Initialize the custom model\n",
    "model = CustomBert(copy.deepcopy(bert), num_adapters=num_adapters).to(device)"
   ],
   "id": "d9b67d416c4320bb",
   "outputs": [],
   "execution_count": 8
  },
  {
   "metadata": {
    "ExecuteTime": {
     "end_time": "2024-12-29T18:00:41.904917Z",
     "start_time": "2024-12-29T18:00:41.345578Z"
    }
   },
   "cell_type": "code",
   "source": [
    "tokenizer = AutoTokenizer.from_pretrained(\"google/bert_uncased_L-2_H-128_A-2\")\n",
    "\n",
    "def tokenize_imdb(examples):\n",
    "    return tokenizer(examples[\"text\"], padding=\"max_length\", truncation=True, max_length=128)\n",
    "\n",
    "def tokenize_sst2(examples):\n",
    "    return tokenizer(examples[\"sentence\"], padding=\"max_length\", truncation=True, max_length=128)\n",
    "\n",
    "def get_tokenized_datasets(paths, functions, split=\"train\", batched=True, num_samples=1000):\n",
    "    datasets = [load_dataset(path) for path in paths]\n",
    "    tokenized_datasets = [dataset.map(function, batched=batched)[split].shuffle(seed=42).select(range(num_samples)) for dataset, function in zip(datasets, functions)]\n",
    "    return tokenized_datasets\n",
    "\n",
    "def get_dataloaders(tokenized_datasets, lora_cnt, split=\"train\", batch_size=8):\n",
    "    if split==\"train\":\n",
    "        dataset = IMDBClassificationDataset(tokenized_datasets, lora_cnt=lora_cnt)\n",
    "        return [DataLoader(dataset, shuffle=True, batch_size=batch_size)]\n",
    "    elif split==\"test\":\n",
    "        datasets = [IMDBClassificationDataset([tokenized_datasets[i]], lora_cnt=lora_cnt, id=i) for i in range(lora_cnt)]\n",
    "        return [DataLoader(dataset, shuffle=False, batch_size=batch_size) for dataset in datasets]\n",
    "    else:\n",
    "        raise ValueError(\"Invalid split\")"
   ],
   "id": "d49b3bd8a75d6467",
   "outputs": [],
   "execution_count": 10
  },
  {
   "metadata": {
    "ExecuteTime": {
     "end_time": "2024-12-29T17:53:22.525301Z",
     "start_time": "2024-12-29T17:52:52.556681Z"
    }
   },
   "cell_type": "code",
   "source": [
    "tokenized_test = get_tokenized_datasets([\"imdb\", \"jahjinx/IMDb_movie_reviews\"], [tokenize_imdb, tokenize_imdb], num_samples=1000, split=\"test\")\n",
    "\n",
    "test_loaders = get_dataloaders(tokenized_test, num_adapters, split=\"test\")"
   ],
   "id": "845d0b93966bbf02",
   "outputs": [
    {
     "name": "stderr",
     "output_type": "stream",
     "text": [
      "C:\\Users\\balanton\\anaconda3\\envs\\semester_project\\Lib\\site-packages\\huggingface_hub\\file_download.py:139: UserWarning: `huggingface_hub` cache-system uses symlinks by default to efficiently store duplicated files but your machine does not support them in C:\\Users\\balanton\\.cache\\huggingface\\hub\\datasets--imdb. Caching files will still work but in a degraded version that might require more space on your disk. This warning can be disabled by setting the `HF_HUB_DISABLE_SYMLINKS_WARNING` environment variable. For more details, see https://huggingface.co/docs/huggingface_hub/how-to-cache#limitations.\n",
      "To support symlinks on Windows, you either need to activate Developer Mode or to run Python as an administrator. In order to activate developer mode, see this article: https://docs.microsoft.com/en-us/windows/apps/get-started/enable-your-device-for-development\n",
      "  warnings.warn(message)\n",
      "C:\\Users\\balanton\\anaconda3\\envs\\semester_project\\Lib\\site-packages\\huggingface_hub\\file_download.py:139: UserWarning: `huggingface_hub` cache-system uses symlinks by default to efficiently store duplicated files but your machine does not support them in C:\\Users\\balanton\\.cache\\huggingface\\hub\\datasets--jahjinx--IMDb_movie_reviews. Caching files will still work but in a degraded version that might require more space on your disk. This warning can be disabled by setting the `HF_HUB_DISABLE_SYMLINKS_WARNING` environment variable. For more details, see https://huggingface.co/docs/huggingface_hub/how-to-cache#limitations.\n",
      "To support symlinks on Windows, you either need to activate Developer Mode or to run Python as an administrator. In order to activate developer mode, see this article: https://docs.microsoft.com/en-us/windows/apps/get-started/enable-your-device-for-development\n",
      "  warnings.warn(message)\n",
      "Map: 100%|██████████| 25000/25000 [00:03<00:00, 7598.77 examples/s]\n",
      "Map: 100%|██████████| 25000/25000 [00:03<00:00, 7466.83 examples/s]\n",
      "Map: 100%|██████████| 50000/50000 [00:07<00:00, 7055.06 examples/s]\n",
      "Map: 100%|██████████| 36000/36000 [00:05<00:00, 6914.04 examples/s]\n",
      "Map: 100%|██████████| 4000/4000 [00:00<00:00, 6527.07 examples/s]\n",
      "Map: 100%|██████████| 10000/10000 [00:01<00:00, 7091.78 examples/s]\n"
     ]
    }
   ],
   "execution_count": 7
  },
  {
   "metadata": {
    "ExecuteTime": {
     "end_time": "2024-12-29T17:53:29.353759Z",
     "start_time": "2024-12-29T17:53:27.249139Z"
    }
   },
   "cell_type": "code",
   "source": [
    "# Evaluate both adapters on respective datasets\n",
    "model.eval()\n",
    "criterion = torch.nn.BCELoss()\n",
    "\n",
    "for i in range(num_adapters):\n",
    "    total_loss = 0\n",
    "    for batch in test_loaders[i]:\n",
    "        ids, masks, labels, masking = batch\n",
    "        labels = labels.type(torch.float)\n",
    "        o = model(ids.to(device), masks.to(device), masking.to(device))\n",
    "        loss = criterion(torch.squeeze(o), labels.to(device))\n",
    "        \n",
    "        total_loss += loss.item()\n",
    "        \n",
    "    print(f\"Adapter {i} loss: {total_loss / len(test_loaders[i])}\")"
   ],
   "id": "b8182de951464ffa",
   "outputs": [
    {
     "name": "stdout",
     "output_type": "stream",
     "text": [
      "Adapter 0 loss: 0.7014205160140992\n",
      "Adapter 1 loss: 0.7042800440788269\n"
     ]
    }
   ],
   "execution_count": 8
  },
  {
   "metadata": {
    "ExecuteTime": {
     "end_time": "2024-12-29T17:53:44.308611Z",
     "start_time": "2024-12-29T17:53:33.557263Z"
    }
   },
   "cell_type": "code",
   "source": "tokenized_datasets = get_tokenized_datasets([\"imdb\", \"jahjinx/IMDb_movie_reviews\"], [tokenize_imdb, tokenize_imdb], num_samples=1000, split=\"train\")",
   "id": "73b09760f777e380",
   "outputs": [
    {
     "name": "stderr",
     "output_type": "stream",
     "text": [
      "Map: 100%|██████████| 25000/25000 [00:04<00:00, 5966.61 examples/s]\n"
     ]
    }
   ],
   "execution_count": 9
  },
  {
   "metadata": {
    "ExecuteTime": {
     "end_time": "2024-12-29T17:54:00.649444Z",
     "start_time": "2024-12-29T17:54:00.473954Z"
    }
   },
   "cell_type": "code",
   "source": [
    "# Initialize the custom model\n",
    "model = CustomBert(copy.deepcopy(bert), num_adapters=num_adapters).to(device)\n",
    "\n",
    "# Mark only LoRA parameters as trainable\n",
    "loralib.utils.mark_only_lora_as_trainable(model)\n",
    "\n",
    "# Training loop\n",
    "model.train()\n",
    "criterion = torch.nn.BCELoss()\n",
    "optimizer = AdamW(model.parameters(), lr=5e-5)\n",
    "train_dataloader = get_dataloaders(tokenized_datasets, num_adapters, split=\"train\")[0]\n",
    "\n",
    "num_epochs = 100\n",
    "num_training_steps = num_epochs * len(train_dataloader)\n",
    "lr_scheduler = get_scheduler(\n",
    "    \"linear\",\n",
    "    optimizer=optimizer,\n",
    "    num_warmup_steps=0,\n",
    "    num_training_steps=num_training_steps\n",
    ")"
   ],
   "id": "d977eef8a10619e0",
   "outputs": [],
   "execution_count": 10
  },
  {
   "metadata": {
    "ExecuteTime": {
     "end_time": "2024-12-29T17:58:24.156853Z",
     "start_time": "2024-12-29T17:54:05.498374Z"
    }
   },
   "cell_type": "code",
   "source": [
    "start = time.time()\n",
    "\n",
    "for epoch in tqdm.tqdm(range(num_epochs)):\n",
    "    for batch in train_dataloader:\n",
    "        ids, masks, labels, masking = batch\n",
    "        labels = labels.type(torch.float)\n",
    "        o = model(ids.to(device), masks.to(device), masking.to(device))\n",
    "\n",
    "        loss = criterion(torch.squeeze(o), labels.to(device))\n",
    "        loss.backward()\n",
    "\n",
    "        optimizer.step()\n",
    "        lr_scheduler.step()\n",
    "        optimizer.zero_grad()\n",
    "        \n",
    "print(f\"Training time: {time.time() - start}\")"
   ],
   "id": "52283da3345608a2",
   "outputs": [
    {
     "name": "stderr",
     "output_type": "stream",
     "text": [
      "100%|██████████| 100/100 [04:18<00:00,  2.59s/it]"
     ]
    },
    {
     "name": "stdout",
     "output_type": "stream",
     "text": [
      "Training time: 258.6542167663574\n"
     ]
    },
    {
     "name": "stderr",
     "output_type": "stream",
     "text": [
      "\n"
     ]
    }
   ],
   "execution_count": 11
  },
  {
   "metadata": {
    "ExecuteTime": {
     "end_time": "2024-12-29T17:58:35.579226Z",
     "start_time": "2024-12-29T17:58:33.706Z"
    }
   },
   "cell_type": "code",
   "source": [
    "# Evaluate both adapters on respective datasets\n",
    "model.eval()\n",
    "\n",
    "for i in range(num_adapters):\n",
    "    total_loss = 0\n",
    "    for batch in test_loaders[i]:\n",
    "        ids, masks, labels, masking = batch\n",
    "        labels = labels.type(torch.float)\n",
    "        o = model(ids.to(device), masks.to(device), masking.to(device))\n",
    "        loss = criterion(torch.squeeze(o), labels.to(device))\n",
    "        \n",
    "        total_loss += loss.item()\n",
    "        \n",
    "    print(f\"Adapter {i} loss: {total_loss / len(test_loaders[i])}\")"
   ],
   "id": "988f782d93723719",
   "outputs": [
    {
     "name": "stdout",
     "output_type": "stream",
     "text": [
      "Adapter 0 loss: 0.565175075173378\n",
      "Adapter 1 loss: 0.5410247887372971\n"
     ]
    }
   ],
   "execution_count": 13
  },
  {
   "metadata": {
    "ExecuteTime": {
     "end_time": "2024-12-29T18:06:12.755485Z",
     "start_time": "2024-12-29T18:06:05.112366Z"
    }
   },
   "cell_type": "code",
   "source": [
    "bert_normal = AutoModel.from_pretrained(\"google/bert_uncased_L-2_H-128_A-2\", device_map=\"auto\")\n",
    "loraBert = LoRABert(copy.deepcopy(bert_normal)).to(device)\n",
    "\n",
    "# Mark only LoRA parameters as trainable\n",
    "loralib.utils.mark_only_lora_as_trainable(loraBert)\n",
    "\n",
    "# Training loop\n",
    "loraBert.train()\n",
    "criterion = torch.nn.BCELoss()\n",
    "\n",
    "tokenized_test = get_tokenized_datasets([\"imdb\", \"jahjinx/IMDb_movie_reviews\"], [tokenize_imdb, tokenize_imdb], num_samples=1000, split=\"train\")\n",
    "test_loaders = get_dataloaders(tokenized_test, num_adapters, split=\"test\")\n",
    "\n",
    "num_epochs = 100"
   ],
   "id": "5e7c93db0d7c0407",
   "outputs": [],
   "execution_count": 13
  },
  {
   "metadata": {
    "ExecuteTime": {
     "end_time": "2024-12-29T18:09:26.910663Z",
     "start_time": "2024-12-29T18:06:15.361998Z"
    }
   },
   "cell_type": "code",
   "source": [
    "start = time.time()\n",
    "\n",
    "for i in range(num_adapters):\n",
    "    optimizer = AdamW(loraBert.parameters(), lr=5e-5)\n",
    "    for epoch in tqdm.tqdm(range(num_epochs)):\n",
    "        for batch in test_loaders[i]:\n",
    "            ids, masks, labels, _ = batch\n",
    "            labels = labels.type(torch.float)\n",
    "            o = loraBert(ids.to(device), masks.to(device))\n",
    "\n",
    "            loss = criterion(torch.squeeze(o), labels.to(device))\n",
    "            loss.backward()\n",
    "\n",
    "            optimizer.step()\n",
    "            optimizer.zero_grad()\n",
    "\n",
    "print(f\"Training time: {time.time() - start}\")"
   ],
   "id": "63b57563e03812a5",
   "outputs": [
    {
     "name": "stderr",
     "output_type": "stream",
     "text": [
      "100%|██████████| 100/100 [01:31<00:00,  1.09it/s]\n",
      "100%|██████████| 100/100 [01:40<00:00,  1.00s/it]"
     ]
    },
    {
     "name": "stdout",
     "output_type": "stream",
     "text": [
      "Training time: 191.54238629341125\n"
     ]
    },
    {
     "name": "stderr",
     "output_type": "stream",
     "text": [
      "\n"
     ]
    }
   ],
   "execution_count": 14
  },
  {
   "metadata": {
    "ExecuteTime": {
     "end_time": "2024-12-29T18:09:57.281204Z",
     "start_time": "2024-12-29T18:09:57.202093Z"
    }
   },
   "cell_type": "code",
   "source": [
    "# save the tokenizer and the model in `./test-model/` directory \n",
    "tokenizer.save_pretrained(\"./test-model/\")\n",
    "model.save_pretrained(\"./test-model/\", push_to_hub=False)"
   ],
   "id": "ea8f75fb27ccf953",
   "outputs": [],
   "execution_count": 15
  },
  {
   "metadata": {},
   "cell_type": "code",
   "outputs": [],
   "execution_count": null,
   "source": [
    "from transformers import pipeline\n",
    "\n",
    "# as this is classification so you need to mention `text-classification` as task\n",
    "classifier = pipeline('text-classification', model='tanmoyio/test-model')\n",
    "classifier(\"This movie was superb\")\n"
   ],
   "id": "d44ff93641eb817d"
  },
  {
   "metadata": {},
   "cell_type": "markdown",
   "source": [
    "# Masking\n",
    "---\n",
    "# Parallel"
   ],
   "id": "3c6d27b4cfe37a03"
  },
  {
   "metadata": {
    "ExecuteTime": {
     "end_time": "2024-12-10T23:27:40.122739Z",
     "start_time": "2024-12-10T23:27:38.768614Z"
    }
   },
   "cell_type": "code",
   "outputs": [
    {
     "name": "stderr",
     "output_type": "stream",
     "text": [
      "C:\\Users\\balanton\\anaconda3\\envs\\mnlp_m2\\lib\\site-packages\\huggingface_hub\\file_download.py:1132: FutureWarning: `resume_download` is deprecated and will be removed in version 1.0.0. Downloads always resume when possible. If you want to force a new download, use `force_download=True`.\n",
      "  warnings.warn(\n"
     ]
    }
   ],
   "execution_count": 2,
   "source": [
    "# setting device to `cuda` if gpu exists\n",
    "device = torch.device(\"cuda\") if torch.cuda.is_available() else torch.device(\"cpu\")\n",
    "\n",
    "# initialising the tokenizer and model\n",
    "tokenizer = AutoTokenizer.from_pretrained(\"google/bert_uncased_L-2_H-128_A-2\")\n",
    "bert = AutoModel.from_pretrained(\"google/bert_uncased_L-2_H-128_A-2\", device_map=\"auto\")\n",
    "# bert = BertPreTrainedModel_masking.from_pretrained(\"google/bert_uncased_L-2_H-128_A-2\", device_map=\"auto\")\n",
    "\n",
    "# Define LoRA parameters\n",
    "rank = 8\n",
    "num_adapters = 2"
   ],
   "id": "3244a6ed45a0debf"
  },
  {
   "metadata": {
    "ExecuteTime": {
     "end_time": "2024-12-10T23:27:41.903023Z",
     "start_time": "2024-12-10T23:27:40.291324Z"
    }
   },
   "cell_type": "code",
   "outputs": [
    {
     "name": "stderr",
     "output_type": "stream",
     "text": [
      "C:\\Users\\balanton\\anaconda3\\envs\\mnlp_m2\\lib\\site-packages\\huggingface_hub\\file_download.py:1132: FutureWarning: `resume_download` is deprecated and will be removed in version 1.0.0. Downloads always resume when possible. If you want to force a new download, use `force_download=True`.\n",
      "  warnings.warn(\n"
     ]
    }
   ],
   "execution_count": 3,
   "source": [
    "# initialising the tokenizer\n",
    "tokenizer = AutoTokenizer.from_pretrained(\"google/bert_uncased_L-2_H-128_A-2\")\n",
    "\n",
    "def tokenize_imdb(examples):\n",
    "    return tokenizer(examples[\"text\"], padding=\"max_length\", truncation=True, max_length=128)\n",
    "\n",
    "def tokenize_sst2(examples):\n",
    "    return tokenizer(examples[\"sentence\"], padding=\"max_length\", truncation=True, max_length=128)\n",
    "\n",
    "# Now lets create the torch Dataset class\n",
    "class IMDBClassificationDataset(Dataset):\n",
    "    def __init__(self, datasets, lora_cnt=2, id=None):\n",
    "        self.datasets = datasets\n",
    "        self.id = id\n",
    "        self.lora_cnt = lora_cnt\n",
    "\n",
    "    def __len__(self):\n",
    "        if self.id is not None:\n",
    "            return len(self.datasets[self.id])\n",
    "        else:\n",
    "            return sum([len(d) for d in self.datasets])\n",
    "\n",
    "    def __getitem__(self, idx):\n",
    "        masking = torch.zeros(self.lora_cnt)\n",
    "        \n",
    "        if self.id is not None:\n",
    "            masking[self.id] = 1    \n",
    "            d = self.datasets[self.id][idx]\n",
    "        else:\n",
    "            masking[idx % self.lora_cnt] = 1\n",
    "            d = self.datasets[idx % self.lora_cnt][idx // self.lora_cnt]\n",
    "        \n",
    "        ids = torch.tensor(d['input_ids'])\n",
    "        mask = torch.tensor(d['attention_mask'])\n",
    "        label = torch.tensor(d['label'])\n",
    "        \n",
    "        return ids, mask, label, masking"
   ],
   "id": "1b735c04c2509057"
  },
  {
   "metadata": {
    "ExecuteTime": {
     "end_time": "2024-12-10T23:27:42.202428Z",
     "start_time": "2024-12-10T23:27:42.110798Z"
    }
   },
   "cell_type": "code",
   "outputs": [],
   "execution_count": 4,
   "source": [
    "import concurrent\n",
    "\n",
    "\n",
    "class ParallelTrainer:\n",
    "    def __init__(self, model, device, num_adapters=2):\n",
    "        self.model = model\n",
    "        self.device = device\n",
    "        self.num_adapters = num_adapters             \n",
    "    \n",
    "    def train_model(self, train_dataloader, num_epochs=3):\n",
    "        # model.train()\n",
    "        criterion = torch.nn.BCELoss()\n",
    "        optimizer = AdamW(model.parameters(), lr=5e-5)\n",
    "        num_training_steps = num_epochs * len(train_dataloader)\n",
    "        lr_scheduler = get_scheduler(\n",
    "            \"linear\",\n",
    "            optimizer=optimizer,\n",
    "            num_warmup_steps=0,\n",
    "            num_training_steps=num_training_steps\n",
    "        )\n",
    "\n",
    "        for epoch in tqdm.tqdm(range(num_epochs)):\n",
    "            for batch in train_dataloader:\n",
    "                ids, masks, labels, masking = batch\n",
    "                labels = labels.type(torch.float32)\n",
    "                o = model(ids.to(device), masks.to(device), masking.to(device))\n",
    "                loss = criterion(torch.squeeze(o), labels.to(device))\n",
    "                loss.backward()\n",
    "\n",
    "                optimizer.step()\n",
    "                lr_scheduler.step()\n",
    "                optimizer.zero_grad() \n",
    "                \n",
    "    def train(self, train_dataloaders, num_epochs=3):\n",
    "        model.train()\n",
    "        with concurrent.futures.ThreadPoolExecutor() as executor:\n",
    "            futures = [executor.submit(self.train_model, dataloader, num_epochs) for dataloader in train_dataloaders]\n",
    "            concurrent.futures.wait(futures)"
   ],
   "id": "5fc08036e25166a8"
  },
  {
   "metadata": {
    "ExecuteTime": {
     "end_time": "2024-12-10T23:27:42.517035Z",
     "start_time": "2024-12-10T23:27:42.233428Z"
    }
   },
   "cell_type": "code",
   "outputs": [],
   "execution_count": 5,
   "source": [
    "from custom_model import CustomBert\n",
    "\n",
    "model = CustomBert(copy.deepcopy(bert), num_adapters=num_adapters).to(device)\n",
    "\n",
    "loralib.utils.mark_only_lora_as_trainable(model)\n",
    "\n",
    "# Initialize the parallel trainer\n",
    "trainer = ParallelTrainer(model, device, num_adapters=num_adapters)"
   ],
   "id": "5babd8a38058240c"
  },
  {
   "metadata": {
    "ExecuteTime": {
     "end_time": "2024-12-10T23:28:10.568731Z",
     "start_time": "2024-12-10T23:27:42.546891Z"
    }
   },
   "cell_type": "code",
   "outputs": [],
   "execution_count": 6,
   "source": [
    "imdb_dataset = load_dataset(\"imdb\")\n",
    "sst2_dataset = load_dataset(\"stanfordnlp/sst2\")\n",
    "\n",
    "tokenized_imdb = imdb_dataset.map(tokenize_imdb, batched=True)\n",
    "tokenized_sst2 = sst2_dataset.map(tokenize_sst2, batched=True)\n",
    "\n",
    "tokenized_imdb = tokenized_imdb[\"train\"].shuffle(seed=42).select(range(1000))\n",
    "tokenized_sst2 = tokenized_sst2[\"train\"].shuffle(seed=42).select(range(1000))\n",
    "\n",
    "tokenized_datasets = [tokenized_imdb, tokenized_sst2]\n",
    "\n",
    "dataset_imdb = IMDBClassificationDataset(tokenized_datasets, lora_cnt=num_adapters, id=0)\n",
    "dataset_sst2 = IMDBClassificationDataset(tokenized_datasets, lora_cnt=num_adapters, id=1)\n",
    "test_loaders = [DataLoader(dataset_imdb, shuffle=False, batch_size=8), DataLoader(dataset_sst2, shuffle=False, batch_size=8)]"
   ],
   "id": "4db71ed93cae01c"
  },
  {
   "metadata": {
    "ExecuteTime": {
     "start_time": "2024-12-10T23:28:10.613170Z"
    }
   },
   "cell_type": "code",
   "outputs": [
    {
     "name": "stderr",
     "output_type": "stream",
     "text": [
      "\n",
      "  0%|          | 0/3 [00:00<?, ?it/s]\u001B[AC:\\Users\\balanton\\anaconda3\\envs\\mnlp_m2\\lib\\site-packages\\transformers\\models\\bert\\modeling_bert.py:442: UserWarning: 1Torch was not compiled with flash attention. (Triggered internally at C:\\cb\\pytorch_1000000000000\\work\\aten\\src\\ATen\\native\\transformers\\cuda\\sdp_utils.cpp:455.)\n",
      "  attn_output = torch.nn.functional.scaled_dot_product_attention(\n"
     ]
    }
   ],
   "execution_count": null,
   "source": "trainer.train(test_loaders, num_epochs=3)",
   "id": "8deef8f844589118"
  }
 ],
 "metadata": {
  "kernelspec": {
   "display_name": "Python 3",
   "language": "python",
   "name": "python3"
  },
  "language_info": {
   "codemirror_mode": {
    "name": "ipython",
    "version": 2
   },
   "file_extension": ".py",
   "mimetype": "text/x-python",
   "name": "python",
   "nbconvert_exporter": "python",
   "pygments_lexer": "ipython2",
   "version": "2.7.6"
  }
 },
 "nbformat": 4,
 "nbformat_minor": 5
}
